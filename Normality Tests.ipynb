{
 "cells": [
  {
   "cell_type": "code",
   "execution_count": 19,
   "id": "6b813340",
   "metadata": {},
   "outputs": [],
   "source": [
    "import numpy as np\n",
    "import pandas as pd\n",
    "import matplotlib.pyplot as plt\n",
    "import statsmodels.api as sm\n",
    "import seaborn as sns\n",
    "import scipy.stats as stats"
   ]
  },
  {
   "cell_type": "code",
   "execution_count": 20,
   "id": "1a2ae7ef",
   "metadata": {},
   "outputs": [],
   "source": [
    "Test_Data = np.array([ 0.        ,  0.        , -0.31142942, -0.55388061, -1.00577481,\n",
    "       -0.89650068, -0.26682387, -1.87874156,  0.43489814, -0.49173335,\n",
    "        0.30693148, -0.15826985,  0.1338759 , -1.7804752 , -1.13407565,\n",
    "       -0.55911228, -0.08222177,  0.84957125, -0.6478303 ,  1.01844664,\n",
    "        0.21440724,  1.0308487 ,  0.04893845, -0.57290784, -1.26407468,\n",
    "        0.44001649,  0.95501518, -0.27276771, -0.48359706, -0.23766364,\n",
    "       -1.06478442, -0.46170487, -0.24492401, -0.11204458, -0.28663323,\n",
    "        0.37374825, -0.16084207,  1.60242704,  0.06382985,  1.73115819,\n",
    "       -0.75377207,  0.75468433, -0.00653218,  0.92351619,  0.87761746,\n",
    "       -1.90729023, -0.89021613, -1.11008217,  0.58440861,  1.38171852,\n",
    "       -0.5943608 ,  0.63683865,  0.35464418, -1.17990928,  0.42555112,\n",
    "       -0.77250798,  1.55164398, -0.12798666,  1.63909714, -0.45523738,\n",
    "        0.74177512,  0.10602088, -1.78690987, -0.62617909,  0.84651274,\n",
    "       -0.0413959 , -1.16030311, -0.64429848,  0.15709621, -1.20243381,\n",
    "        0.79105964, -0.95740294,  1.57566179, -1.4154506 ,  0.07840043,\n",
    "       -1.6416487 , -0.73655598, -0.67247959,  0.24201919,  0.66243631,\n",
    "       -0.03513426, -0.63331287,  0.66496478,  0.63616377,  0.00743138,\n",
    "        0.57357969,  0.46289125, -0.87258513,  0.99894014, -0.50851296,\n",
    "       -0.3985653 ,  0.36175301, -0.21991661, -0.0688258 ,  0.61429687,\n",
    "        0.99484197, -0.27623515,  0.36309977, -0.17976237])\n"
   ]
  },
  {
   "cell_type": "markdown",
   "id": "4e0b2368",
   "metadata": {},
   "source": [
    "**1.Histogram**"
   ]
  },
  {
   "cell_type": "code",
   "execution_count": 21,
   "id": "2f7b4826",
   "metadata": {},
   "outputs": [
    {
     "data": {
      "image/png": "[encoded data removed]",
      "text/plain": [
       "<Figure size 432x288 with 1 Axes>"
      ]
     },
     "metadata": {
      "needs_background": "light"
     },
     "output_type": "display_data"
    }
   ],
   "source": [
    "sns.histplot(Test_Data,stat='density')\n",
    "sns.kdeplot(Test_Data,color='k')\n",
    "\n",
    "plt.show()"
   ]
  },
  {
   "cell_type": "markdown",
   "id": "f2cc3891",
   "metadata": {},
   "source": [
    "**2.Q-Q Plot**"
   ]
  },
  {
   "cell_type": "code",
   "execution_count": 22,
   "id": "d1f652e5",
   "metadata": {},
   "outputs": [
    {
     "data": {
      "image/png": "[encoded data removed]",
      "text/plain": [
       "<Figure size 432x288 with 1 Axes>"
      ]
     },
     "metadata": {
      "needs_background": "light"
     },
     "output_type": "display_data"
    }
   ],
   "source": [
    "stats.probplot(Test_Data, dist=\"norm\", plot=plt)\n",
    "plt.show()"
   ]
  },
  {
   "cell_type": "markdown",
   "id": "dffc57af",
   "metadata": {},
   "source": [
    "**3.Shapiro-Wilk’s Test**"
   ]
  },
  {
   "cell_type": "code",
   "execution_count": 25,
   "id": "3d9b9b1a",
   "metadata": {},
   "outputs": [
    {
     "name": "stdout",
     "output_type": "stream",
     "text": [
      "Statistics=0.989, p=0.627\n",
      "Sample looks Gaussian (fail to reject H0)\n"
     ]
    }
   ],
   "source": [
    "stat, p = stats.shapiro(Test_Data)\n",
    "print('Statistics=%.3f, p=%.3f' % (stat, p))\n",
    "\n",
    "alpha_SHW = 0.05\n",
    "if p > alpha_SHW:\n",
    "    print('Sample looks Gaussian (fail to reject H0)')\n",
    "else:\n",
    "    print('Sample does not look Gaussian (reject H0)')"
   ]
  },
  {
   "cell_type": "markdown",
   "id": "e12019cc",
   "metadata": {},
   "source": [
    "**4.D’Agostino’s K2 Test**"
   ]
  },
  {
   "cell_type": "code",
   "execution_count": 26,
   "id": "4bbdd336",
   "metadata": {},
   "outputs": [
    {
     "name": "stdout",
     "output_type": "stream",
     "text": [
      "Statistics=0.373, p=0.830\n",
      "Sample looks Gaussian (fail to reject H0)\n"
     ]
    }
   ],
   "source": [
    "stat, p = stats.normaltest(Test_Data)\n",
    "print('Statistics=%.3f, p=%.3f' % (stat, p))\n",
    "\n",
    "alpha = 0.05\n",
    "if p > alpha:\n",
    "    print('Sample looks Gaussian (fail to reject H0)')\n",
    "else:\n",
    "    print('Sample does not look Gaussian (reject H0)')"
   ]
  },
  {
   "cell_type": "markdown",
   "id": "df9aa37a",
   "metadata": {},
   "source": [
    "**Anderson-Darling**"
   ]
  },
  {
   "cell_type": "code",
   "execution_count": 27,
   "id": "a291f30e",
   "metadata": {},
   "outputs": [
    {
     "name": "stdout",
     "output_type": "stream",
     "text": [
      "Statistic: 0.165\n",
      "15.000: 0.555, data looks normal (fail to reject H0)\n",
      "10.000: 0.632, data looks normal (fail to reject H0)\n",
      "5.000: 0.758, data looks normal (fail to reject H0)\n",
      "2.500: 0.885, data looks normal (fail to reject H0)\n",
      "1.000: 1.052, data looks normal (fail to reject H0)\n"
     ]
    }
   ],
   "source": [
    "result = stats.anderson(Test_Data)\n",
    "print('Statistic: %.3f' % result.statistic)\n",
    "p = 0\n",
    "for i in range(len(result.critical_values)):\n",
    "    sl, cv = result.significance_level[i], result.critical_values[i]\n",
    "    if result.statistic < result.critical_values[i]:\n",
    "        print('%.3f: %.3f, data looks normal (fail to reject H0)' % (sl, cv))\n",
    "    else:\n",
    "        print('%.3f: %.3f, data does not look normal (reject H0)' % (sl, cv))"
   ]
  }
 ],
 "metadata": {
  "kernelspec": {
   "display_name": "Python 3 (ipykernel)",
   "language": "python",
   "name": "python3"
  },
  "language_info": {
   "codemirror_mode": {
    "name": "ipython",
    "version": 3
   },
   "file_extension": ".py",
   "mimetype": "text/x-python",
   "name": "python",
   "nbconvert_exporter": "python",
   "pygments_lexer": "ipython3",
   "version": "3.9.7"
  }
 },
 "nbformat": 4,
 "nbformat_minor": 5
}
